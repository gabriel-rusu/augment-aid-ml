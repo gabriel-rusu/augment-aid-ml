{
 "cells": [
  {
   "cell_type": "markdown",
   "source": [
    "## Setting up Git and Github"
   ],
   "metadata": {
    "collapsed": false,
    "id": "42611e8ff00cf05"
   },
   "id": "42611e8ff00cf05"
  },
  {
   "cell_type": "markdown",
   "source": [
    "### Generate a new SSH key (step required if the repo is private else skip to the github clone step)"
   ],
   "metadata": {
    "collapsed": false,
    "id": "db744af698cd5551"
   },
   "id": "db744af698cd5551"
  },
  {
   "cell_type": "code",
   "execution_count": null,
   "id": "initial_id",
   "metadata": {
    "collapsed": true,
    "id": "initial_id"
   },
   "outputs": [],
   "source": [
    "!ssh-keygen -t rsa -b 4096\n",
    "!ssh-keyscan -t rsa github.com >> ~/.ssh/known_hosts\n",
    "!echo \"Copy the following ssh-rsa key: \"\n",
    "!cat /root/.ssh/id_rsa.pub"
   ]
  },
  {
   "cell_type": "markdown",
   "source": [
    "### Test the authentication with Github after pasting the above key into your account"
   ],
   "metadata": {
    "collapsed": false,
    "id": "bbc865803f6e1ced"
   },
   "id": "bbc865803f6e1ced"
  },
  {
   "cell_type": "code",
   "outputs": [],
   "source": [
    "!ssh -T git@github.com"
   ],
   "metadata": {
    "id": "7e46ff63f24a7082"
   },
   "id": "7e46ff63f24a7082",
   "execution_count": null
  },
  {
   "cell_type": "markdown",
   "source": [
    "### Setting Git"
   ],
   "metadata": {
    "collapsed": false,
    "id": "e03ca24baf5827c1"
   },
   "id": "e03ca24baf5827c1"
  },
  {
   "cell_type": "code",
   "outputs": [],
   "source": [
    "!git config --global user.email \"\" # put your github email here\n",
    "!git config --global user.name \"\" # put your github username here"
   ],
   "metadata": {
    "id": "23b519f53f327756"
   },
   "id": "23b519f53f327756",
   "execution_count": null
  },
  {
   "cell_type": "markdown",
   "source": [
    "### Cloning the Github repo"
   ],
   "metadata": {
    "collapsed": false
   },
   "id": "4ecf5d714ba4526b"
  },
  {
   "cell_type": "code",
   "outputs": [],
   "source": [
    "!git clone git@github.com:gabriel-rusu/advanced-image-classification-ml.git"
   ],
   "metadata": {
    "collapsed": false
   },
   "id": "b01695d00808f3cc"
  },
  {
   "cell_type": "markdown",
   "source": [
    "### Installing conda"
   ],
   "metadata": {
    "collapsed": false,
    "id": "2055596bcc01ed7"
   },
   "id": "2055596bcc01ed7"
  },
  {
   "cell_type": "code",
   "outputs": [],
   "source": [
    "################################################################################\n",
    "# INSTALL CONDA ON GOOGLE COLAB\n",
    "################################################################################\n",
    "! wget https://repo.anaconda.com/miniconda/Miniconda3-py311_23.10.0-1-Linux-x86_64.sh\n",
    "! chmod +x Miniconda3-py311_23.10.0-1-Linux-x86_64.sh\n",
    "! bash ./Miniconda3-py311_23.10.0-1-Linux-x86_64.sh -b -f -p /usr/local\n",
    "import sys\n",
    "sys.path.append('/usr/local/lib/python3.11/site-packages/')"
   ],
   "metadata": {
    "id": "9b3634d82042b547"
   },
   "id": "9b3634d82042b547",
   "execution_count": null
  },
  {
   "cell_type": "markdown",
   "source": [
    "### Check CUDA version"
   ],
   "metadata": {
    "collapsed": false,
    "id": "43db8a4d055b5381"
   },
   "id": "43db8a4d055b5381"
  },
  {
   "cell_type": "code",
   "outputs": [],
   "source": [
    "!nvcc --version"
   ],
   "metadata": {
    "id": "173e3429ed102748"
   },
   "id": "173e3429ed102748",
   "execution_count": null
  },
  {
   "cell_type": "markdown",
   "source": [
    "### Installing project dependencies"
   ],
   "metadata": {
    "collapsed": false,
    "id": "9d2bfb111c01a331"
   },
   "id": "9d2bfb111c01a331"
  },
  {
   "cell_type": "code",
   "outputs": [],
   "source": [
    "!conda install pytorch torchvision torchaudio pytorch-cuda=12.1 -c pytorch -c nvidia -y\n",
    "!conda install -y pip\n",
    "!pip3 install -r ./advanced-image-classification-ml/requirements.txt\n",
    "!conda install -c conda-forge ipywidgets -y"
   ],
   "metadata": {
    "id": "fbac584fc4510204"
   },
   "id": "fbac584fc4510204",
   "execution_count": null
  },
  {
   "cell_type": "markdown",
   "source": [
    "### Setting up"
   ],
   "metadata": {
    "collapsed": false,
    "id": "ebf4949531b3dcfc"
   },
   "id": "ebf4949531b3dcfc"
  },
  {
   "cell_type": "code",
   "outputs": [],
   "source": [
    "%%shell\n",
    "cd advanced-image-classification-ml\n",
    "# conda run python setup.py develop\n",
    "pip install -v -e ."
   ],
   "metadata": {
    "id": "989e855b5f74eb75"
   },
   "id": "989e855b5f74eb75",
   "execution_count": null
  },
  {
   "cell_type": "markdown",
   "source": [
    "### Run the training script"
   ],
   "metadata": {
    "collapsed": false,
    "id": "d9f84b3e5b540ff3"
   },
   "id": "d9f84b3e5b540ff3"
  },
  {
   "cell_type": "code",
   "outputs": [],
   "source": [
    "%%shell\n",
    "cd advanced-image-classification-ml/\n",
    "# conda run python scripts/google-colab/generator-training.py\n",
    "# conda run python scripts/google-colab/image-classification-training.py\n",
    "# conda run python scripts/google-colab/k-fold-cross-validation.py"
   ],
   "metadata": {
    "id": "aac39b649cd77b4"
   },
   "id": "aac39b649cd77b4",
   "execution_count": null
  }
 ],
 "metadata": {
  "kernelspec": {
   "display_name": "Python 3",
   "language": "python",
   "name": "python3"
  },
  "language_info": {
   "codemirror_mode": {
    "name": "ipython",
    "version": 2
   },
   "file_extension": ".py",
   "mimetype": "text/x-python",
   "name": "python",
   "nbconvert_exporter": "python",
   "pygments_lexer": "ipython2",
   "version": "2.7.6"
  },
  "colab": {
   "provenance": []
  }
 },
 "nbformat": 4,
 "nbformat_minor": 5
}
