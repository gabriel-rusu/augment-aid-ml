{
 "cells": [
  {
   "cell_type": "markdown",
   "source": [
    "### Cloning the Github repo"
   ],
   "metadata": {
    "collapsed": false
   },
   "id": "4ecf5d714ba4526b"
  },
  {
   "cell_type": "code",
   "outputs": [],
   "source": "!git clone git@github.com:gabriel-rusu/augment-aid-ml.git",
   "metadata": {
    "collapsed": false
   },
   "id": "b01695d00808f3cc",
   "execution_count": null
  },
  {
   "cell_type": "markdown",
   "source": [
    "### Installing conda"
   ],
   "metadata": {
    "collapsed": false,
    "id": "2055596bcc01ed7"
   },
   "id": "2055596bcc01ed7"
  },
  {
   "cell_type": "code",
   "outputs": [],
   "source": [
    "################################################################################\n",
    "# INSTALL CONDA ON GOOGLE COLAB\n",
    "################################################################################\n",
    "! wget https://repo.anaconda.com/miniconda/Miniconda3-py311_23.10.0-1-Linux-x86_64.sh\n",
    "! chmod +x Miniconda3-py311_23.10.0-1-Linux-x86_64.sh\n",
    "! bash ./Miniconda3-py311_23.10.0-1-Linux-x86_64.sh -b -f -p /usr/local\n",
    "import sys\n",
    "sys.path.append('/usr/local/lib/python3.11/site-packages/')"
   ],
   "metadata": {
    "id": "9b3634d82042b547"
   },
   "id": "9b3634d82042b547",
   "execution_count": null
  },
  {
   "cell_type": "markdown",
   "source": [
    "### Check CUDA version"
   ],
   "metadata": {
    "collapsed": false,
    "id": "43db8a4d055b5381"
   },
   "id": "43db8a4d055b5381"
  },
  {
   "cell_type": "code",
   "outputs": [],
   "source": [
    "!nvcc --version"
   ],
   "metadata": {
    "id": "173e3429ed102748"
   },
   "id": "173e3429ed102748",
   "execution_count": null
  },
  {
   "cell_type": "markdown",
   "source": [
    "### Installing project dependencies"
   ],
   "metadata": {
    "collapsed": false,
    "id": "9d2bfb111c01a331"
   },
   "id": "9d2bfb111c01a331"
  },
  {
   "cell_type": "code",
   "outputs": [],
   "source": [
    "!conda env create -f environment.yml -y\n",
    "!conda install -y pip\n",
    "!conda install -c conda-forge ipywidgets -y"
   ],
   "metadata": {
    "id": "fbac584fc4510204"
   },
   "id": "fbac584fc4510204",
   "execution_count": null
  },
  {
   "cell_type": "markdown",
   "source": [
    "### Setting up"
   ],
   "metadata": {
    "collapsed": false,
    "id": "ebf4949531b3dcfc"
   },
   "id": "ebf4949531b3dcfc"
  },
  {
   "cell_type": "code",
   "outputs": [],
   "source": [
    "%%shell\n",
    "cd augment-aid-ml\n",
    "# conda run python setup.py develop\n",
    "pip install -v -e ."
   ],
   "metadata": {
    "id": "989e855b5f74eb75"
   },
   "id": "989e855b5f74eb75",
   "execution_count": null
  },
  {
   "cell_type": "markdown",
   "source": [
    "### Run the training script"
   ],
   "metadata": {
    "collapsed": false,
    "id": "d9f84b3e5b540ff3"
   },
   "id": "d9f84b3e5b540ff3"
  },
  {
   "cell_type": "code",
   "outputs": [],
   "source": [
    "%%shell\n",
    "cd augment-aid-ml/\n",
    "conda run python script/google-colab/gan-training.py\n",
    "conda run python script/google-colab/vae-training.py\n",
    "conda run python script/google-colab/image-classification.py\n",
    "conda run python script/google-colab/gan-enhanced-image-classification.py\n",
    "conda run python script/google-colab/vae-enhanced-image-classification.py"
   ],
   "metadata": {
    "id": "aac39b649cd77b4"
   },
   "id": "aac39b649cd77b4",
   "execution_count": null
  }
 ],
 "metadata": {
  "kernelspec": {
   "display_name": "Python 3",
   "language": "python",
   "name": "python3"
  },
  "language_info": {
   "codemirror_mode": {
    "name": "ipython",
    "version": 2
   },
   "file_extension": ".py",
   "mimetype": "text/x-python",
   "name": "python",
   "nbconvert_exporter": "python",
   "pygments_lexer": "ipython2",
   "version": "2.7.6"
  },
  "colab": {
   "provenance": []
  }
 },
 "nbformat": 4,
 "nbformat_minor": 5
}
