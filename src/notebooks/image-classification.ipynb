{
 "cells": [
  {
   "cell_type": "markdown",
   "source": [
    "#### Imports"
   ],
   "metadata": {
    "collapsed": false
   },
   "id": "ed4d28944c51aaed"
  },
  {
   "cell_type": "code",
   "source": [
    "import lightning as L\n",
    "from lightning.pytorch.callbacks import ModelCheckpoint\n",
    "from lightning.pytorch.loggers import TensorBoardLogger, CSVLogger\n",
    "\n",
    "from src.dataset.FashionMNISTDataModule import FashionMNISTDataModule\n",
    "from src.models.classifier import ResNet18Classifier\n",
    "from src.train.wrapper.classifier_wrapper import ClassifierWrapper\n",
    "from src.utils.constants import Paths\n",
    "from src.utils.helpers import detect_device"
   ],
   "metadata": {
    "collapsed": false
   },
   "id": "c6c2a0f5eba6bdb1",
   "outputs": [],
   "execution_count": null
  },
  {
   "cell_type": "markdown",
   "source": "#### Defining batch size",
   "metadata": {
    "collapsed": false
   },
   "id": "495d05400bca2af6"
  },
  {
   "cell_type": "code",
   "source": [
    "BATCH_SIZE = 512"
   ],
   "metadata": {
    "collapsed": false
   },
   "id": "c62e2762842788b8",
   "outputs": [],
   "execution_count": null
  },
  {
   "cell_type": "markdown",
   "source": "#### Create FashionMNISTDataModule",
   "metadata": {
    "collapsed": false
   },
   "id": "d44736ca047ab7f7"
  },
  {
   "cell_type": "code",
   "id": "initial_id",
   "metadata": {
    "collapsed": true
   },
   "source": [
    "datamodule = FashionMNISTDataModule(Paths.DATA_DIR, BATCH_SIZE)\n",
    "datamodule.setup('fit')\n",
    "\n",
    "# Report split sizes\n",
    "print('Training set has {} instances'.format(len(datamodule.train_dataloader()) * BATCH_SIZE))\n",
    "print('Validation set has {} instances'.format(len(datamodule.val_dataloader()) * BATCH_SIZE))"
   ],
   "outputs": [],
   "execution_count": null
  },
  {
   "cell_type": "markdown",
   "source": "#### Assemble the model",
   "metadata": {
    "collapsed": false
   },
   "id": "c970596d99ed0979"
  },
  {
   "cell_type": "code",
   "source": [
    "model = ResNet18Classifier(datamodule.num_classes())\n",
    "classifier_wrapper = ClassifierWrapper(model, datamodule.num_classes())"
   ],
   "metadata": {
    "collapsed": false
   },
   "id": "89993ece49c1b49",
   "outputs": [],
   "execution_count": null
  },
  {
   "metadata": {},
   "cell_type": "markdown",
   "source": "#### Adding logging and checkpointing",
   "id": "643617add0b31b9a"
  },
  {
   "cell_type": "code",
   "source": [
    "loggers = [\n",
    "    TensorBoardLogger(Paths.LOGS_DIR, name='classifier-training.logs', log_graph=True, version='version-1.0'),\n",
    "    CSVLogger(Paths.LOGS_DIR, name='classifier-training.logs', version='version-1.0')\n",
    "]\n",
    "checkpoint_callback = ModelCheckpoint(dirpath=Paths.MODEL_CHECKPOINT_DIR,\n",
    "                                      filename='classifier-{epoch:02d}-{val_loss:.2f}', save_top_k=3,\n",
    "                                      monitor='val_loss')"
   ],
   "metadata": {
    "collapsed": false
   },
   "id": "a69cff40a17630ad",
   "outputs": [],
   "execution_count": null
  },
  {
   "metadata": {},
   "cell_type": "markdown",
   "source": "#### Opening tensorboard to monitor the model performance",
   "id": "770dd480576ad76c"
  },
  {
   "metadata": {},
   "cell_type": "code",
   "outputs": [],
   "execution_count": null,
   "source": [
    "%load_ext tensorboard\n",
    "%tensorboard --logdir ../../logs/classifier-training.logs"
   ],
   "id": "8d59eee2fbf414f5"
  },
  {
   "metadata": {},
   "cell_type": "markdown",
   "source": "#### Training the model",
   "id": "3c79ded6c0a122ca"
  },
  {
   "cell_type": "code",
   "source": [
    "trainer = L.Trainer(default_root_dir=Paths.MODEL_CHECKPOINT_DIR, max_epochs=50, callbacks=[checkpoint_callback],\n",
    "                    logger=loggers, accelerator=detect_device(), enable_checkpointing=True, log_every_n_steps=50)\n",
    "\n",
    "trainer.fit(classifier_wrapper, datamodule=datamodule)"
   ],
   "metadata": {
    "collapsed": false
   },
   "id": "845944e596446b33",
   "outputs": [],
   "execution_count": null
  }
 ],
 "metadata": {
  "kernelspec": {
   "display_name": "Python 3",
   "language": "python",
   "name": "python3"
  },
  "language_info": {
   "codemirror_mode": {
    "name": "ipython",
    "version": 2
   },
   "file_extension": ".py",
   "mimetype": "text/x-python",
   "name": "python",
   "nbconvert_exporter": "python",
   "pygments_lexer": "ipython2",
   "version": "2.7.6"
  }
 },
 "nbformat": 4,
 "nbformat_minor": 5
}
