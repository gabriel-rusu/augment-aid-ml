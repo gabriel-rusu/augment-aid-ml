{
 "cells": [
  {
   "cell_type": "markdown",
   "source": [],
   "metadata": {
    "collapsed": false
   },
   "id": "a706c7ca308e37e2"
  },
  {
   "cell_type": "markdown",
   "source": [
    "#### Imports"
   ],
   "metadata": {
    "collapsed": false
   },
   "id": "ed4d28944c51aaed"
  },
  {
   "cell_type": "code",
   "source": [
    "import lightning as L\n",
    "import torch\n",
    "import torchvision\n",
    "from lightning.pytorch.callbacks import ModelCheckpoint\n",
    "from lightning.pytorch.loggers import TensorBoardLogger, CSVLogger\n",
    "\n",
    "from src.dataset.FashionMNISTDataModule import FashionMNISTDataModule\n",
    "from src.train.wrapper.classifier_wrapper import ClassifierWrapper\n",
    "from src.utils.constants import Paths\n",
    "from src.utils.helpers import detect_device"
   ],
   "metadata": {
    "collapsed": false
   },
   "id": "c6c2a0f5eba6bdb1",
   "outputs": [],
   "execution_count": null
  },
  {
   "cell_type": "markdown",
   "source": "#### Defining batch size",
   "metadata": {
    "collapsed": false
   },
   "id": "495d05400bca2af6"
  },
  {
   "cell_type": "code",
   "source": [
    "BATCH_SIZE = 512"
   ],
   "metadata": {
    "collapsed": false
   },
   "id": "c62e2762842788b8",
   "outputs": [],
   "execution_count": null
  },
  {
   "cell_type": "markdown",
   "source": "#### Create FashionMNISTDataModule",
   "metadata": {
    "collapsed": false
   },
   "id": "d44736ca047ab7f7"
  },
  {
   "cell_type": "code",
   "id": "initial_id",
   "metadata": {
    "collapsed": true
   },
   "source": [
    "fashionMNISTDataModule = FashionMNISTDataModule(Paths.DATA_DIR, BATCH_SIZE)\n",
    "fashionMNISTDataModule.setup('fit')\n",
    "\n",
    "# Report split sizes\n",
    "print('Training set has {} instances'.format(len(fashionMNISTDataModule.train_dataloader())*BATCH_SIZE))\n",
    "print('Validation set has {} instances'.format(len(fashionMNISTDataModule.val_dataloader())*BATCH_SIZE))"
   ],
   "outputs": [],
   "execution_count": null
  },
  {
   "cell_type": "markdown",
   "source": [],
   "metadata": {
    "collapsed": false
   },
   "id": "c970596d99ed0979"
  },
  {
   "cell_type": "code",
   "source": [
    "model = torchvision.models.resnet18(weights=None)\n",
    "model.conv1 = torch.nn.Conv2d(1, 64, kernel_size=7, stride=2, padding=3, bias=False)\n",
    "model.fc = torch.nn.Linear(model.fc.in_features, 10)\n",
    "\n",
    "classifier_wrapper = ClassifierWrapper(model, len(fashionMNISTDataModule.dataset_classes()))"
   ],
   "metadata": {
    "collapsed": false
   },
   "id": "89993ece49c1b49",
   "outputs": [],
   "execution_count": null
  },
  {
   "cell_type": "code",
   "source": [
    "loggers = [\n",
    "    TensorBoardLogger(Paths.LOGS_DIR, name='classifier_training.logs', log_graph=True, version='version-1.0'),\n",
    "    CSVLogger(Paths.LOGS_DIR, name='classifier_training.logs', version='version-1.0')\n",
    "]\n",
    "checkpoint_callback = ModelCheckpoint(dirpath=Paths.MODEL_CHECKPOINT_DIR,\n",
    "                                      filename='classifier-{epoch:02d}-{val_loss:.2f}', save_top_k=3,\n",
    "                                      monitor='val_loss')"
   ],
   "metadata": {
    "collapsed": false
   },
   "id": "a69cff40a17630ad",
   "outputs": [],
   "execution_count": null
  },
  {
   "cell_type": "code",
   "source": [
    "trainer = L.Trainer(default_root_dir=Paths.MODEL_CHECKPOINT_DIR, max_epochs=50, callbacks=[checkpoint_callback],\n",
    "                    logger=loggers, accelerator=detect_device(), enable_checkpointing=True, log_every_n_steps=50)\n",
    "\n",
    "trainer.fit(classifier_wrapper, datamodule=fashionMNISTDataModule)"
   ],
   "metadata": {
    "collapsed": false
   },
   "id": "845944e596446b33",
   "outputs": [],
   "execution_count": null
  },
  {
   "metadata": {},
   "cell_type": "code",
   "source": "",
   "id": "5138fd22ae195c13",
   "outputs": [],
   "execution_count": null
  }
 ],
 "metadata": {
  "kernelspec": {
   "display_name": "Python 3",
   "language": "python",
   "name": "python3"
  },
  "language_info": {
   "codemirror_mode": {
    "name": "ipython",
    "version": 2
   },
   "file_extension": ".py",
   "mimetype": "text/x-python",
   "name": "python",
   "nbconvert_exporter": "python",
   "pygments_lexer": "ipython2",
   "version": "2.7.6"
  }
 },
 "nbformat": 4,
 "nbformat_minor": 5
}
