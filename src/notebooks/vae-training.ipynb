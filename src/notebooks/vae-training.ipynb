{
 "cells": [
  {
   "cell_type": "markdown",
   "source": [
    "## Training a VAE on Fashion MNIST"
   ],
   "metadata": {
    "collapsed": false
   },
   "id": "80999af1f3927b"
  },
  {
   "cell_type": "markdown",
   "source": [
    "#### Setting for hot reloading of modules"
   ],
   "metadata": {
    "collapsed": false
   },
   "id": "ad239bc6ba06a086"
  },
  {
   "cell_type": "code",
   "source": [
    "%load_ext autoreload\n",
    "%autoreload 2"
   ],
   "metadata": {
    "collapsed": false
   },
   "id": "f1d7ea5433e412cb",
   "outputs": [],
   "execution_count": null
  },
  {
   "cell_type": "markdown",
   "source": [
    "#### Importing modules"
   ],
   "metadata": {
    "collapsed": false
   },
   "id": "621eee24479ed310"
  },
  {
   "cell_type": "code",
   "source": [
    "import lightning as L\n",
    "from lightning.pytorch.callbacks import ModelCheckpoint\n",
    "from lightning.pytorch.loggers import TensorBoardLogger, CSVLogger\n",
    "\n",
    "from src.dataset.FashionMNISTDataModule import FashionMNISTDataModule\n",
    "from src.train.utils.helpers import show_train_images_sample\n",
    "from src.utils.constants import Paths\n",
    "from src.utils.helpers import detect_device"
   ],
   "metadata": {
    "collapsed": false
   },
   "id": "3621dbfcf153ae08",
   "outputs": [],
   "execution_count": null
  },
  {
   "cell_type": "markdown",
   "source": [
    "#### Setting up the data"
   ],
   "metadata": {
    "collapsed": false
   },
   "id": "d704c6751baf3016"
  },
  {
   "cell_type": "code",
   "source": "BATCH_SIZE = 512",
   "metadata": {
    "collapsed": false
   },
   "id": "75f30dcd584de702",
   "outputs": [],
   "execution_count": null
  },
  {
   "cell_type": "markdown",
   "source": [
    "#### Downloading and preparing the data"
   ],
   "metadata": {
    "collapsed": false
   },
   "id": "d913439efd7c9d82"
  },
  {
   "cell_type": "code",
   "id": "initial_id",
   "metadata": {
    "collapsed": true
   },
   "source": [
    "datamodule = FashionMNISTDataModule(Paths.DATA_DIR, BATCH_SIZE)\n",
    "datamodule.setup('fit')\n",
    "\n",
    "# Report split sizes\n",
    "print('Training set has {} instances'.format(len(datamodule.train_dataloader()) * BATCH_SIZE))\n",
    "print('Validation set has {} instances'.format(len(datamodule.val_dataloader()) * BATCH_SIZE))"
   ],
   "outputs": [],
   "execution_count": null
  },
  {
   "cell_type": "markdown",
   "source": [
    "#### Defining the model hyperparameters"
   ],
   "metadata": {
    "collapsed": false
   },
   "id": "a2b05aff5ce4feea"
  },
  {
   "cell_type": "code",
   "source": [
    "input_dim = 28 * 28\n",
    "hidden_dim = 400\n",
    "latent_dim = 200"
   ],
   "metadata": {
    "collapsed": false
   },
   "id": "4c2e13a2b5caf12a",
   "outputs": [],
   "execution_count": null
  },
  {
   "cell_type": "markdown",
   "source": [
    "#### Visualizing the data"
   ],
   "metadata": {
    "collapsed": false
   },
   "id": "5179e4081d0a348e"
  },
  {
   "cell_type": "code",
   "source": "show_train_images_sample(datamodule)",
   "metadata": {
    "collapsed": false
   },
   "id": "45d1fab42597efdf",
   "outputs": [],
   "execution_count": null
  },
  {
   "cell_type": "markdown",
   "source": [
    "#### Defining the model"
   ],
   "metadata": {
    "collapsed": false
   },
   "id": "bfb43e7e68aa763f"
  },
  {
   "cell_type": "code",
   "source": [
    "from src.train.wrapper.vae_wrapper import VAEWrapper\n",
    "from src.models.vae import VAE\n",
    "\n",
    "vae = VAE(input_dim, hidden_dim, latent_dim, detect_device()).to(detect_device())\n",
    "vae_wrapper = VAEWrapper(vae, display_every_n_steps=100)"
   ],
   "metadata": {
    "collapsed": false
   },
   "id": "3bac1432d1b4faf2",
   "outputs": [],
   "execution_count": null
  },
  {
   "cell_type": "markdown",
   "source": "#### Adding logging and checkpointing",
   "metadata": {
    "collapsed": false
   },
   "id": "46c77ad02dc17f60"
  },
  {
   "cell_type": "code",
   "source": [
    "loggers = [\n",
    "    TensorBoardLogger(Paths.LOGS_DIR, name='vae-training.logs', log_graph=True, version='version-1.0'),\n",
    "    CSVLogger(Paths.LOGS_DIR, name='vae-training.logs', version='version-1.0')\n",
    "]\n",
    "checkpoint_callback = ModelCheckpoint(dirpath=Paths.MODEL_CHECKPOINT_DIR,\n",
    "                                      filename='vae-wrapper', save_top_k=1,\n",
    "                                      monitor='val_loss')"
   ],
   "metadata": {
    "collapsed": false
   },
   "id": "bc7df325129658fd",
   "outputs": [],
   "execution_count": null
  },
  {
   "cell_type": "markdown",
   "source": "#### Opening tensorboard to monitor the model performance",
   "metadata": {
    "collapsed": false
   },
   "id": "3234c495db9fb452"
  },
  {
   "cell_type": "code",
   "source": [
    "%load_ext tensorboard\n",
    "%tensorboard --logdir ../../logs/vae-training.logs"
   ],
   "metadata": {
    "collapsed": false
   },
   "id": "72138ce2331bf642",
   "outputs": [],
   "execution_count": null
  },
  {
   "cell_type": "markdown",
   "source": [
    "#### Training the model"
   ],
   "metadata": {
    "collapsed": false
   },
   "id": "e216b4222ad4fa57"
  },
  {
   "cell_type": "code",
   "source": [
    "trainer = L.Trainer(default_root_dir=Paths.MODEL_CHECKPOINT_DIR, max_epochs=10000, callbacks=[checkpoint_callback],\n",
    "                    logger=loggers, accelerator=detect_device(), enable_checkpointing=True, log_every_n_steps=10)\n",
    "\n",
    "trainer.fit(vae_wrapper, datamodule=datamodule)"
   ],
   "metadata": {
    "collapsed": false
   },
   "id": "5bdb44c91592cbcf",
   "outputs": [],
   "execution_count": null
  }
 ],
 "metadata": {
  "kernelspec": {
   "display_name": "Python 3",
   "language": "python",
   "name": "python3"
  },
  "language_info": {
   "codemirror_mode": {
    "name": "ipython",
    "version": 2
   },
   "file_extension": ".py",
   "mimetype": "text/x-python",
   "name": "python",
   "nbconvert_exporter": "python",
   "pygments_lexer": "ipython2",
   "version": "2.7.6"
  }
 },
 "nbformat": 4,
 "nbformat_minor": 5
}
