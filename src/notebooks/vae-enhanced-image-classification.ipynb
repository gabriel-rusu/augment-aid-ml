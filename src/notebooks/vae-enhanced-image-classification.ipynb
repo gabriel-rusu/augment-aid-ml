{
 "cells": [
  {
   "cell_type": "markdown",
   "id": "257fe403d6ea1264",
   "metadata": {},
   "source": [
    "#### Imports"
   ]
  },
  {
   "cell_type": "code",
   "id": "af491a7567f9bbc",
   "metadata": {},
   "source": [
    "import lightning as L\n",
    "import torch\n",
    "from lightning.pytorch.callbacks import ModelCheckpoint\n",
    "from lightning.pytorch.loggers import CSVLogger\n",
    "from lightning.pytorch.loggers import TensorBoardLogger\n",
    "\n",
    "from src.dataset.FashionMNISTDataModule import FashionMNISTDataModule\n",
    "from src.models.classifier import ResNet18Classifier\n",
    "from src.models.vae import VAE\n",
    "from src.train.wrapper.vae_augmented_training_wrapper import VAEAugmentedTrainingWrapper\n",
    "from src.train.wrapper.vae_wrapper import VAEWrapper\n",
    "from src.utils.constants import Paths\n",
    "from src.utils.helpers import detect_device"
   ],
   "outputs": [],
   "execution_count": null
  },
  {
   "cell_type": "markdown",
   "id": "1f8e952d4197def1",
   "metadata": {},
   "source": [
    "#### Defining batch size"
   ]
  },
  {
   "cell_type": "code",
   "id": "be9588458c77c91e",
   "metadata": {},
   "source": [
    "BATCH_SIZE = 1024"
   ],
   "outputs": [],
   "execution_count": null
  },
  {
   "cell_type": "markdown",
   "id": "6fb6142c70987a23",
   "metadata": {},
   "source": [
    "#### Create FashionMNISTDataModule"
   ]
  },
  {
   "cell_type": "code",
   "id": "d4608a95bc8874f1",
   "metadata": {},
   "source": [
    "datamodule = FashionMNISTDataModule(Paths.DATA_DIR, BATCH_SIZE)\n",
    "datamodule.setup('fit')\n",
    "\n",
    "# Report split sizes\n",
    "print('Training set has {} instances'.format(len(datamodule.train_dataloader()) * BATCH_SIZE))\n",
    "print('Validation set has {} instances'.format(len(datamodule.val_dataloader()) * BATCH_SIZE))"
   ],
   "outputs": [],
   "execution_count": null
  },
  {
   "cell_type": "markdown",
   "id": "3990481abec84cd1",
   "metadata": {},
   "source": [
    "#### Defining VAE properties"
   ]
  },
  {
   "cell_type": "code",
   "id": "22efc3f35425124",
   "metadata": {},
   "source": [
    "input_dim = 28 * 28\n",
    "hidden_dim = 400\n",
    "latent_dim = 200"
   ],
   "outputs": [],
   "execution_count": null
  },
  {
   "metadata": {},
   "cell_type": "markdown",
   "source": "#### Assembling the model",
   "id": "9dfc4d1b2a85442"
  },
  {
   "cell_type": "code",
   "id": "483cecd0488dff5a",
   "metadata": {},
   "source": [
    "model = ResNet18Classifier(datamodule.num_classes())\n",
    "vae = VAE(input_dim, hidden_dim, latent_dim, detect_device()).to(detect_device())\n",
    "\n",
    "vae_wrapper = VAEWrapper(vae, display_every_n_steps=100)\n",
    "vae_wrapper.load_state_dict(torch.load(Paths.VAE_WRAPPER_CHECKPOINT_FILE_PATH)['state_dict'])\n",
    "\n",
    "classifier_wrapper = VAEAugmentedTrainingWrapper(model, vae_wrapper.vae,\n",
    "                                                 datamodule.train_dataloader_unaltered())"
   ],
   "outputs": [],
   "execution_count": null
  },
  {
   "metadata": {},
   "cell_type": "markdown",
   "source": "#### Adding logging and checkpointing",
   "id": "56a86e9f99d41bcd"
  },
  {
   "cell_type": "code",
   "id": "c589b6a259666082",
   "metadata": {},
   "source": [
    "loggers = [\n",
    "    TensorBoardLogger(Paths.LOGS_DIR, name='classifier-vae-training.logs', log_graph=True, version='version-1.0'),\n",
    "    CSVLogger(Paths.LOGS_DIR, name='classifier-vae-training.logs', version='version-1.0')\n",
    "]\n",
    "\n",
    "logger = TensorBoardLogger(Paths.LOGS_DIR, name='classifier-vae-training.logs')\n",
    "checkpoint_callback = ModelCheckpoint(dirpath=Paths.MODEL_CHECKPOINT_DIR,\n",
    "                                      filename='classifier-vae-{epoch:02d}-{val_loss:.2f}', save_top_k=3,\n",
    "                                      monitor='val_loss')"
   ],
   "outputs": [],
   "execution_count": null
  },
  {
   "metadata": {},
   "cell_type": "markdown",
   "source": "#### Opening tensorboard to monitor the model performance",
   "id": "23c22dc647a32fae"
  },
  {
   "metadata": {},
   "cell_type": "code",
   "outputs": [],
   "execution_count": null,
   "source": [
    "%load_ext tensorboard\n",
    "%tensorboard --logdir ../../logs/classifier-vae-training.logs"
   ],
   "id": "9dfbca6d05fcabd"
  },
  {
   "metadata": {},
   "cell_type": "markdown",
   "source": "#### Training the enhanced classifier",
   "id": "e3c9785a3bd06221"
  },
  {
   "cell_type": "code",
   "id": "b90cd37db15fd6f6",
   "metadata": {},
   "source": [
    "trainer = L.Trainer(default_root_dir=Paths.MODEL_CHECKPOINT_DIR, max_epochs=50, callbacks=[checkpoint_callback],\n",
    "                    logger=logger, accelerator=detect_device(), enable_checkpointing=True, log_every_n_steps=50)\n",
    "\n",
    "trainer.fit(classifier_wrapper, datamodule=datamodule)"
   ],
   "outputs": [],
   "execution_count": null
  }
 ],
 "metadata": {
  "kernelspec": {
   "display_name": "Python 3",
   "language": "python",
   "name": "python3"
  },
  "language_info": {
   "codemirror_mode": {
    "name": "ipython",
    "version": 2
   },
   "file_extension": ".py",
   "mimetype": "text/x-python",
   "name": "python",
   "nbconvert_exporter": "python",
   "pygments_lexer": "ipython2",
   "version": "2.7.6"
  }
 },
 "nbformat": 4,
 "nbformat_minor": 5
}
