{
 "cells": [
  {
   "metadata": {},
   "cell_type": "markdown",
   "source": "#### Imports",
   "id": "ce3e8d8a8d6d2cb4"
  },
  {
   "cell_type": "code",
   "id": "initial_id",
   "metadata": {
    "collapsed": true
   },
   "source": [
    "import lightning as L\n",
    "import torch\n",
    "from lightning.pytorch.callbacks import ModelCheckpoint\n",
    "from lightning.pytorch.loggers import TensorBoardLogger, CSVLogger\n",
    "\n",
    "from src.dataset.FashionMNISTDataModule import FashionMNISTDataModule\n",
    "from src.models.classifier import ResNet18Classifier\n",
    "from src.models.discriminator import Discriminator\n",
    "from src.models.generator import Generator\n",
    "from src.train.wrapper.gan_augmented_training_wrapper import GANAugmentedTrainingWrapper\n",
    "from src.train.wrapper.gan_wrapper import GANWrapper\n",
    "from src.utils.constants import Paths\n",
    "from src.utils.helpers import detect_device"
   ],
   "outputs": [],
   "execution_count": null
  },
  {
   "cell_type": "markdown",
   "source": "#### Defining batch size",
   "metadata": {
    "collapsed": false
   },
   "id": "4604efb47abf288"
  },
  {
   "cell_type": "code",
   "source": [
    "BATCH_SIZE = 512"
   ],
   "metadata": {
    "collapsed": false
   },
   "id": "c7dd719dcdd6ccf1",
   "outputs": [],
   "execution_count": null
  },
  {
   "cell_type": "markdown",
   "source": "#### Creating the FashionMNISTDataModule",
   "metadata": {
    "collapsed": false
   },
   "id": "6c758195cd432864"
  },
  {
   "cell_type": "code",
   "source": [
    "datamodule = FashionMNISTDataModule(Paths.DATA_DIR, BATCH_SIZE)\n",
    "datamodule.setup('fit')\n",
    "\n",
    "# Report split sizes\n",
    "print('Training set has {} instances'.format(len(datamodule.train_dataloader()) * BATCH_SIZE))\n",
    "print('Validation set has {} instances'.format(len(datamodule.val_dataloader()) * BATCH_SIZE))"
   ],
   "metadata": {
    "collapsed": false
   },
   "id": "68a7f4616e27a3ca",
   "outputs": [],
   "execution_count": null
  },
  {
   "cell_type": "markdown",
   "source": "#### Defining the GAN parameters",
   "metadata": {
    "collapsed": false
   },
   "id": "c27e494004046b8c"
  },
  {
   "cell_type": "code",
   "source": [
    "z_dim = 128\n",
    "generator_input_dim = z_dim + datamodule.num_classes()\n",
    "input_channels = 1\n",
    "discriminator_input_dim = input_channels + datamodule.num_classes()"
   ],
   "metadata": {
    "collapsed": false
   },
   "id": "37ba9aa392db93f6",
   "outputs": [],
   "execution_count": null
  },
  {
   "cell_type": "markdown",
   "source": "#### Assemble the model",
   "metadata": {
    "collapsed": false
   },
   "id": "f7a94dbb5f59e054"
  },
  {
   "cell_type": "code",
   "source": [
    "model = ResNet18Classifier(datamodule.num_classes())\n",
    "generator = Generator(generator_input_dim, input_channels)\n",
    "discriminator = Discriminator(discriminator_input_dim)\n",
    "\n",
    "gan_wrapper = GANWrapper(generator, discriminator, z_dim, datamodule.num_classes(), 10)\n",
    "gan_wrapper.load_state_dict(torch.load(Paths.GAN_WRAPPER_CHECKPOINT_FILE_PATH)['state_dict'])\n",
    "\n",
    "classifier_wrapper = GANAugmentedTrainingWrapper(model, gan_wrapper.generator, z_dim,\n",
    "                                                 datamodule.num_classes())"
   ],
   "metadata": {
    "collapsed": false
   },
   "id": "399f204e3dc2616b",
   "outputs": [],
   "execution_count": null
  },
  {
   "cell_type": "markdown",
   "source": "#### Adding logging and checkpointing",
   "metadata": {
    "collapsed": false
   },
   "id": "755c1574f1f4f84b"
  },
  {
   "cell_type": "code",
   "source": [
    "loggers = [\n",
    "    TensorBoardLogger(Paths.LOGS_DIR, name='classifier-gan-training.logs', log_graph=True, version='version-1.0'),\n",
    "    CSVLogger(Paths.LOGS_DIR, name='classifier-gan-training.logs', version='version-1.0')\n",
    "]\n",
    "checkpoint_callback = ModelCheckpoint(dirpath=Paths.MODEL_CHECKPOINT_DIR,\n",
    "                                      filename='classifier-gan-{epoch:02d}-{val_loss:.2f}', save_top_k=3,\n",
    "                                      monitor='val_loss')"
   ],
   "metadata": {
    "collapsed": false
   },
   "id": "15a51d573d487bcd",
   "outputs": [],
   "execution_count": null
  },
  {
   "metadata": {},
   "cell_type": "markdown",
   "source": "#### Opening tensorboard to monitor the model performance",
   "id": "107ee048291e9b8"
  },
  {
   "metadata": {},
   "cell_type": "code",
   "outputs": [],
   "execution_count": null,
   "source": [
    "%load_ext tensorboard\n",
    "%tensorboard --logdir ../../logs/classifier-gan-training.logs"
   ],
   "id": "abd8f4ea65b575eb"
  },
  {
   "metadata": {},
   "cell_type": "markdown",
   "source": "#### Training the model",
   "id": "76772b952de25655"
  },
  {
   "cell_type": "code",
   "source": [
    "trainer = L.Trainer(default_root_dir=Paths.MODEL_CHECKPOINT_DIR, max_epochs=50, callbacks=[checkpoint_callback],\n",
    "                    logger=loggers, accelerator=detect_device(), enable_checkpointing=True, log_every_n_steps=50)\n",
    "\n",
    "trainer.fit(classifier_wrapper, datamodule=datamodule)"
   ],
   "metadata": {
    "collapsed": false
   },
   "id": "71f3942d8212f8ed",
   "outputs": [],
   "execution_count": null
  }
 ],
 "metadata": {
  "kernelspec": {
   "display_name": "Python 3",
   "language": "python",
   "name": "python3"
  },
  "language_info": {
   "codemirror_mode": {
    "name": "ipython",
    "version": 2
   },
   "file_extension": ".py",
   "mimetype": "text/x-python",
   "name": "python",
   "nbconvert_exporter": "python",
   "pygments_lexer": "ipython2",
   "version": "2.7.6"
  }
 },
 "nbformat": 4,
 "nbformat_minor": 5
}
